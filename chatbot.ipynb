{
  "nbformat": 4,
  "nbformat_minor": 0,
  "metadata": {
    "colab": {
      "provenance": []
    },
    "kernelspec": {
      "name": "python3",
      "display_name": "Python 3"
    },
    "language_info": {
      "name": "python"
    }
  },
  "cells": [
    {
      "cell_type": "markdown",
      "source": [
        " **Importing** **Required** **Libraries**"
      ],
      "metadata": {
        "id": "XhgYWWQIz-Hf"
      }
    },
    {
      "cell_type": "code",
      "source": [
        "# Importing the regex library for pattern matching\n",
        "import re"
      ],
      "metadata": {
        "id": "DE7fJtp60E4D"
      },
      "execution_count": null,
      "outputs": []
    },
    {
      "cell_type": "markdown",
      "source": [
        "**Defining Chatbot rules and Responses**"
      ],
      "metadata": {
        "id": "ztU70UFd0JNX"
      }
    },
    {
      "cell_type": "code",
      "source": [
        "# Dictionary containing the chatbot rules and responses\n",
        "chatbot_rules = {\n",
        "    'hi': 'Hello!',\n",
        "    'hello': 'Hi there!',\n",
        "    'how are you': 'I am doing well, thank you!',\n",
        "    'what is your name': 'I am a rule-based chatbot and My name is Abrar 2.0',\n",
        "    'bye': 'Goodbye! Have a nice day!'\n",
        "}"
      ],
      "metadata": {
        "id": "zYz6EDkQ0Obp"
      },
      "execution_count": null,
      "outputs": []
    },
    {
      "cell_type": "markdown",
      "source": [
        "**Implementing** **ChatBot** **Logic**"
      ],
      "metadata": {
        "id": "2aqKN4al0SSv"
      }
    },
    {
      "cell_type": "code",
      "source": [
        "def chatbot_response(user_input):\n",
        "    # Convert the user input to lowercase\n",
        "    user_input = user_input.lower()\n",
        "\n",
        "    # Loop through the chatbot rules to find a match\n",
        "    for rule, response in chatbot_rules.items():\n",
        "        if re.search(rule, user_input):\n",
        "            return response\n",
        "\n",
        "    # If no match is found, respond with a default message\n",
        "    return 'I am sorry, I do not understand your question.'\n"
      ],
      "metadata": {
        "id": "Ub3u9eEO0UZM"
      },
      "execution_count": null,
      "outputs": []
    },
    {
      "cell_type": "markdown",
      "source": [
        "**Creating a loop for User** **Interaction**"
      ],
      "metadata": {
        "id": "laE1sozS0fQX"
      }
    },
    {
      "cell_type": "code",
      "source": [
        "\n",
        "def chat():\n",
        "    print(\"Chatbot: Hi! I am a simple rule-based chatbot. You can start a conversation with me. Type 'bye' to exit.\")\n",
        "    while True:\n",
        "        user_input = input(\"You: \")\n",
        "        if user_input.lower() == 'bye':\n",
        "            print(\"Chatbot: Goodbye! Have a nice day!\")\n",
        "            break\n",
        "        else:\n",
        "            response = chatbot_response(user_input)\n",
        "            print(\"Chatbot:\", response)"
      ],
      "metadata": {
        "id": "lzahcMMX0hRz"
      },
      "execution_count": null,
      "outputs": []
    },
    {
      "cell_type": "markdown",
      "source": [
        "**Advanced ChatBot NLP Project**"
      ],
      "metadata": {
        "id": "ak8-TEsM0l6f"
      }
    },
    {
      "cell_type": "markdown",
      "source": [
        "**Importing Necessary Libraries**"
      ],
      "metadata": {
        "id": "qmsdOnw-0uO5"
      }
    },
    {
      "cell_type": "code",
      "source": [
        "import re\n",
        "import nltk\n",
        "import requests\n",
        "from nltk.corpus import stopwords\n",
        "from nltk.stem import PorterStemmer\n",
        "from nltk.tokenize import word_tokenize\n",
        "\n",
        "nltk.download('punkt')\n",
        "nltk.download('stopwords')\n"
      ],
      "metadata": {
        "colab": {
          "base_uri": "https://localhost:8080/"
        },
        "id": "KeFk_GHh0xZN",
        "outputId": "3550e191-000b-46bc-bb5e-498b357b825f"
      },
      "execution_count": null,
      "outputs": [
        {
          "output_type": "stream",
          "name": "stderr",
          "text": [
            "[nltk_data] Downloading package punkt to /root/nltk_data...\n",
            "[nltk_data]   Package punkt is already up-to-date!\n",
            "[nltk_data] Downloading package stopwords to /root/nltk_data...\n",
            "[nltk_data]   Package stopwords is already up-to-date!\n"
          ]
        },
        {
          "output_type": "execute_result",
          "data": {
            "text/plain": [
              "True"
            ]
          },
          "metadata": {},
          "execution_count": 21
        }
      ]
    },
    {
      "cell_type": "markdown",
      "source": [
        "**Set Chatbot Rules**"
      ],
      "metadata": {
        "id": "ayiWuAa505XV"
      }
    },
    {
      "cell_type": "code",
      "source": [
        "chatbot_rules = {\n",
        "    r'\\bhi\\b': 'Hello! How can I assist you today?',\n",
        "    r'\\bhello\\b': 'Hi there! How may I help you?',\n",
        "    r'\\bhow are you\\b': 'I am doing well, thank you for asking!',\n",
        "    r'\\bwhat is your name\\b': 'I am a chatBot and my name is abrar 2.0.',\n",
        "    r'\\bbye\\b': 'Goodbye! Have a nice day!',\n",
        "    r'\\bhelp\\b': 'Sure, I can help you. What do you need assistance with?',\n",
        "    r'\\bweather\\b': 'The current weather is sunny with a temperature of 25°C.',\n",
        "    r'\\bgood morning\\b': 'Good morning! How can I assist you?',\n",
        "    r'\\bgood afternoon\\b': 'Good afternoon! How may I help you?',\n",
        "    r'\\bgood evening\\b': 'Good evening! What can I do for you?',\n",
        "    r'\\bthank you\\b': 'You\\'re welcome! Happy to assist.',\n",
        "    r'\\bwhat can you do\\b': 'I can provide information, answer questions, and assist with various tasks.',\n",
        "    r'\\bwho made you\\b': 'I was created by an AI engineer using Python.',\n",
        "    r'\\bwhere are you from\\b': 'I exist in the digital world and don\\'t have a physical location.',\n",
        "    r'\\bwho are you\\b': 'I am a chatbot programmed to assist users like you!',\n",
        "    r'\\bwhat is the meaning of life\\b': 'The meaning of life is subjective and can vary from person to person.',\n",
        "    r'\\bwhat do you know\\b': 'I have access to a vast amount of information, so feel free to ask anything!',\n",
        "    r'\\bwho is your creator\\b': 'I was created by mohammed abrar ali to assist and learn from interactions.'\n",
        "}"
      ],
      "metadata": {
        "id": "v5vPR8IS1BBN"
      },
      "execution_count": null,
      "outputs": []
    },
    {
      "cell_type": "markdown",
      "source": [
        "**Implementing advanced natural language processing techniques for text processing and understanding user intents**\n"
      ],
      "metadata": {
        "id": "vRLWSTpC1Er6"
      }
    },
    {
      "cell_type": "code",
      "source": [
        "def preprocess_text(text):\n",
        "    # Convert the text to lowercase\n",
        "    text = text.lower()\n",
        "\n",
        "    # Tokenize the text into words\n",
        "    words = word_tokenize(text)\n",
        "\n",
        "    # Remove stopwords\n",
        "    stop_words = set(stopwords.words('english'))\n",
        "    words = [word for word in words if word not in stop_words]\n",
        "\n",
        "    # Stem the words\n",
        "    stemmer = PorterStemmer()\n",
        "    words = [stemmer.stem(word) for word in words]\n",
        "\n",
        "    # Join the processed words back to a sentence\n",
        "    processed_text = ' '.join(words)\n",
        "\n",
        "    return processed_text\n",
        "\n",
        "def chatbot_response(user_input):\n",
        "    processed_input = preprocess_text(user_input)\n",
        "\n",
        "    # Loop through the chatbot rules to find a match\n",
        "    for rule, response in chatbot_rules.items():\n",
        "        if re.search(rule, processed_input):\n",
        "            return response\n",
        "\n",
        "    # If no match is found, respond with a default message\n",
        "    return 'I am sorry, I do not understand your question.'\n"
      ],
      "metadata": {
        "id": "ncVSYmP21IAs"
      },
      "execution_count": null,
      "outputs": []
    },
    {
      "cell_type": "markdown",
      "source": [
        "**Creating a loop for user interaction**\n"
      ],
      "metadata": {
        "id": "pExlcQJI1MrJ"
      }
    },
    {
      "cell_type": "code",
      "source": [
        "def chat():\n",
        "    print(\"Chatbot: Hi! I am an advanced chatbot using NLP. You can start a conversation with me. Type 'bye' to exit.\")\n",
        "    while True:\n",
        "        user_input = input(\"You: \")\n",
        "        if user_input.lower() == 'bye':\n",
        "            print(\"Chatbot: Goodbye! Have a nice day!\")\n",
        "            break\n",
        "        else:\n",
        "            response = chatbot_response(user_input)\n",
        "            print(\"Chatbot:\", response)\n"
      ],
      "metadata": {
        "id": "Kag4x2sJ1TFy"
      },
      "execution_count": null,
      "outputs": []
    },
    {
      "cell_type": "markdown",
      "source": [
        "**Running The** **Chatbot**"
      ],
      "metadata": {
        "id": "BhswL2Jm1Ylm"
      }
    },
    {
      "cell_type": "code",
      "source": [
        "chat()"
      ],
      "metadata": {
        "colab": {
          "base_uri": "https://localhost:8080/"
        },
        "id": "VyMAobx31a35",
        "outputId": "e12e2af3-fe69-4d9d-b363-edbcf7f670d2"
      },
      "execution_count": null,
      "outputs": [
        {
          "output_type": "stream",
          "name": "stdout",
          "text": [
            "Chatbot: Hi! I am an advanced chatbot using NLP. You can start a conversation with me. Type 'bye' to exit.\n",
            "You: hi\n",
            "Chatbot: Hello! How can I assist you today?\n",
            "You: how is the weather today\n",
            "Chatbot: The current weather is sunny with a temperature of 25°C.\n",
            "You: bye\n",
            "Chatbot: Goodbye! Have a nice day!\n"
          ]
        }
      ]
    }
  ]
}